{
 "cells": [
  {
   "cell_type": "code",
   "execution_count": 1,
   "metadata": {},
   "outputs": [],
   "source": [
    "import pandas as pd\n",
    "import numpy as np\n",
    "from scipy.io import arff\n",
    "from scipy.stats import iqr\n",
    "\n",
    "import os\n",
    "import math\n",
    "\n",
    "import matplotlib.pyplot as plt\n",
    "import matplotlib.colors as mcolors\n",
    "import seaborn as sns\n",
    "\n",
    "import datetime\n",
    "import calendar\n",
    "\n",
    "from numpy import mean\n",
    "from numpy import std\n",
    "\n",
    "from sklearn.preprocessing import normalize\n",
    "from sklearn.preprocessing import scale\n",
    "from sklearn.preprocessing import OrdinalEncoder\n",
    "from sklearn.preprocessing import LabelEncoder\n",
    "from sklearn.feature_selection import f_regression\n",
    "from sklearn.feature_selection import f_classif\n",
    "from sklearn.feature_selection import mutual_info_classif\n",
    "from sklearn.feature_selection import mutual_info_regression\n",
    "from sklearn.feature_selection import RFE\n",
    "from sklearn.discriminant_analysis import LinearDiscriminantAnalysis\n",
    "from sklearn.decomposition import PCA\n",
    "from sklearn.neighbors import KNeighborsClassifier\n",
    "from sklearn.svm import SVC\n",
    "from sklearn.linear_model import LogisticRegression\n",
    "from sklearn.tree import DecisionTreeClassifier\n",
    "from sklearn.ensemble import RandomForestClassifier\n",
    "from sklearn.model_selection import cross_val_score\n",
    "from sklearn.model_selection import learning_curve\n",
    "from sklearn.model_selection import validation_curve\n",
    "from sklearn.model_selection import StratifiedKFold\n",
    "\n",
    "import joblib"
   ]
  },
  {
   "cell_type": "code",
   "execution_count": 2,
   "metadata": {
    "scrolled": true
   },
   "outputs": [
    {
     "name": "stdout",
     "output_type": "stream",
     "text": [
      "(520, 17)\n"
     ]
    },
    {
     "data": {
      "text/html": [
       "<div>\n",
       "<style scoped>\n",
       "    .dataframe tbody tr th:only-of-type {\n",
       "        vertical-align: middle;\n",
       "    }\n",
       "\n",
       "    .dataframe tbody tr th {\n",
       "        vertical-align: top;\n",
       "    }\n",
       "\n",
       "    .dataframe thead th {\n",
       "        text-align: right;\n",
       "    }\n",
       "</style>\n",
       "<table border=\"1\" class=\"dataframe\">\n",
       "  <thead>\n",
       "    <tr style=\"text-align: right;\">\n",
       "      <th></th>\n",
       "      <th>Age</th>\n",
       "      <th>Gender</th>\n",
       "      <th>Polyuria</th>\n",
       "      <th>Polydipsia</th>\n",
       "      <th>sudden weight loss</th>\n",
       "      <th>weakness</th>\n",
       "      <th>Polyphagia</th>\n",
       "      <th>Genital thrush</th>\n",
       "      <th>visual blurring</th>\n",
       "      <th>Itching</th>\n",
       "      <th>Irritability</th>\n",
       "      <th>delayed healing</th>\n",
       "      <th>partial paresis</th>\n",
       "      <th>muscle stiffness</th>\n",
       "      <th>Alopecia</th>\n",
       "      <th>Obesity</th>\n",
       "      <th>class</th>\n",
       "    </tr>\n",
       "  </thead>\n",
       "  <tbody>\n",
       "    <tr>\n",
       "      <th>0</th>\n",
       "      <td>40</td>\n",
       "      <td>Male</td>\n",
       "      <td>No</td>\n",
       "      <td>Yes</td>\n",
       "      <td>No</td>\n",
       "      <td>Yes</td>\n",
       "      <td>No</td>\n",
       "      <td>No</td>\n",
       "      <td>No</td>\n",
       "      <td>Yes</td>\n",
       "      <td>No</td>\n",
       "      <td>Yes</td>\n",
       "      <td>No</td>\n",
       "      <td>Yes</td>\n",
       "      <td>Yes</td>\n",
       "      <td>Yes</td>\n",
       "      <td>Positive</td>\n",
       "    </tr>\n",
       "    <tr>\n",
       "      <th>1</th>\n",
       "      <td>58</td>\n",
       "      <td>Male</td>\n",
       "      <td>No</td>\n",
       "      <td>No</td>\n",
       "      <td>No</td>\n",
       "      <td>Yes</td>\n",
       "      <td>No</td>\n",
       "      <td>No</td>\n",
       "      <td>Yes</td>\n",
       "      <td>No</td>\n",
       "      <td>No</td>\n",
       "      <td>No</td>\n",
       "      <td>Yes</td>\n",
       "      <td>No</td>\n",
       "      <td>Yes</td>\n",
       "      <td>No</td>\n",
       "      <td>Positive</td>\n",
       "    </tr>\n",
       "  </tbody>\n",
       "</table>\n",
       "</div>"
      ],
      "text/plain": [
       "   Age Gender Polyuria Polydipsia sudden weight loss weakness Polyphagia  \\\n",
       "0   40   Male       No        Yes                 No      Yes         No   \n",
       "1   58   Male       No         No                 No      Yes         No   \n",
       "\n",
       "  Genital thrush visual blurring Itching Irritability delayed healing  \\\n",
       "0             No              No     Yes           No             Yes   \n",
       "1             No             Yes      No           No              No   \n",
       "\n",
       "  partial paresis muscle stiffness Alopecia Obesity     class  \n",
       "0              No              Yes      Yes     Yes  Positive  \n",
       "1             Yes               No      Yes      No  Positive  "
      ]
     },
     "execution_count": 2,
     "metadata": {},
     "output_type": "execute_result"
    }
   ],
   "source": [
    "diab = pd.read_csv('diabetes_data_upload.csv')\n",
    "print(diab.shape)\n",
    "diab.head(2)"
   ]
  },
  {
   "cell_type": "code",
   "execution_count": 3,
   "metadata": {
    "scrolled": true
   },
   "outputs": [
    {
     "name": "stdout",
     "output_type": "stream",
     "text": [
      "Age \n",
      " [16 25 26 27 28 29 30 31 32 33 34 35 36 37 38 39 40 41 42 43 44 45 46 47\n",
      " 48 49 50 51 52 53 54 55 56 57 58 59 60 61 62 63 64 65 66 67 68 69 70 72\n",
      " 79 85 90] \n",
      "\n",
      "Gender \n",
      " ['Female' 'Male'] \n",
      "\n",
      "Polyuria \n",
      " ['No' 'Yes'] \n",
      "\n",
      "Polydipsia \n",
      " ['No' 'Yes'] \n",
      "\n",
      "sudden weight loss \n",
      " ['No' 'Yes'] \n",
      "\n",
      "weakness \n",
      " ['No' 'Yes'] \n",
      "\n",
      "Polyphagia \n",
      " ['No' 'Yes'] \n",
      "\n",
      "Genital thrush \n",
      " ['No' 'Yes'] \n",
      "\n",
      "visual blurring \n",
      " ['No' 'Yes'] \n",
      "\n",
      "Itching \n",
      " ['No' 'Yes'] \n",
      "\n",
      "Irritability \n",
      " ['No' 'Yes'] \n",
      "\n",
      "delayed healing \n",
      " ['No' 'Yes'] \n",
      "\n",
      "partial paresis \n",
      " ['No' 'Yes'] \n",
      "\n",
      "muscle stiffness \n",
      " ['No' 'Yes'] \n",
      "\n",
      "Alopecia \n",
      " ['No' 'Yes'] \n",
      "\n",
      "Obesity \n",
      " ['No' 'Yes'] \n",
      "\n",
      "class \n",
      " ['Negative' 'Positive'] \n",
      "\n"
     ]
    }
   ],
   "source": [
    "def print_unique(df):\n",
    "    for col in df.columns:\n",
    "        print(col, '\\n', df[col].sort_values().unique(), '\\n')\n",
    "        \n",
    "print_unique(diab)"
   ]
  },
  {
   "cell_type": "code",
   "execution_count": 4,
   "metadata": {},
   "outputs": [],
   "source": [
    "def get_snapshot(df):\n",
    "    n_missing = pd.DataFrame(df.isnull().sum(), columns = ['n_missing'])\n",
    "    pct_missing = pd.DataFrame(round(df.isnull().sum() / df.shape[0], 2), columns = ['pct_missing'])\n",
    "    dtype = pd.DataFrame(df.dtypes, columns = ['dtype'])\n",
    "    n_unique = []\n",
    "    for col in df.columns:\n",
    "        n_unique.append(df[col].nunique())    \n",
    "    return pd.DataFrame(n_unique, index = df.columns, columns = ['n_unique']).join(dtype).join(n_missing).join(pct_missing)"
   ]
  },
  {
   "cell_type": "code",
   "execution_count": 5,
   "metadata": {
    "scrolled": false
   },
   "outputs": [
    {
     "data": {
      "text/html": [
       "<div>\n",
       "<style scoped>\n",
       "    .dataframe tbody tr th:only-of-type {\n",
       "        vertical-align: middle;\n",
       "    }\n",
       "\n",
       "    .dataframe tbody tr th {\n",
       "        vertical-align: top;\n",
       "    }\n",
       "\n",
       "    .dataframe thead th {\n",
       "        text-align: right;\n",
       "    }\n",
       "</style>\n",
       "<table border=\"1\" class=\"dataframe\">\n",
       "  <thead>\n",
       "    <tr style=\"text-align: right;\">\n",
       "      <th></th>\n",
       "      <th>n_unique</th>\n",
       "      <th>dtype</th>\n",
       "      <th>n_missing</th>\n",
       "      <th>pct_missing</th>\n",
       "    </tr>\n",
       "  </thead>\n",
       "  <tbody>\n",
       "    <tr>\n",
       "      <th>Age</th>\n",
       "      <td>51</td>\n",
       "      <td>int64</td>\n",
       "      <td>0</td>\n",
       "      <td>0.0</td>\n",
       "    </tr>\n",
       "    <tr>\n",
       "      <th>Gender</th>\n",
       "      <td>2</td>\n",
       "      <td>object</td>\n",
       "      <td>0</td>\n",
       "      <td>0.0</td>\n",
       "    </tr>\n",
       "    <tr>\n",
       "      <th>Polyuria</th>\n",
       "      <td>2</td>\n",
       "      <td>object</td>\n",
       "      <td>0</td>\n",
       "      <td>0.0</td>\n",
       "    </tr>\n",
       "    <tr>\n",
       "      <th>Polydipsia</th>\n",
       "      <td>2</td>\n",
       "      <td>object</td>\n",
       "      <td>0</td>\n",
       "      <td>0.0</td>\n",
       "    </tr>\n",
       "    <tr>\n",
       "      <th>sudden weight loss</th>\n",
       "      <td>2</td>\n",
       "      <td>object</td>\n",
       "      <td>0</td>\n",
       "      <td>0.0</td>\n",
       "    </tr>\n",
       "    <tr>\n",
       "      <th>weakness</th>\n",
       "      <td>2</td>\n",
       "      <td>object</td>\n",
       "      <td>0</td>\n",
       "      <td>0.0</td>\n",
       "    </tr>\n",
       "    <tr>\n",
       "      <th>Polyphagia</th>\n",
       "      <td>2</td>\n",
       "      <td>object</td>\n",
       "      <td>0</td>\n",
       "      <td>0.0</td>\n",
       "    </tr>\n",
       "    <tr>\n",
       "      <th>Genital thrush</th>\n",
       "      <td>2</td>\n",
       "      <td>object</td>\n",
       "      <td>0</td>\n",
       "      <td>0.0</td>\n",
       "    </tr>\n",
       "    <tr>\n",
       "      <th>visual blurring</th>\n",
       "      <td>2</td>\n",
       "      <td>object</td>\n",
       "      <td>0</td>\n",
       "      <td>0.0</td>\n",
       "    </tr>\n",
       "    <tr>\n",
       "      <th>Itching</th>\n",
       "      <td>2</td>\n",
       "      <td>object</td>\n",
       "      <td>0</td>\n",
       "      <td>0.0</td>\n",
       "    </tr>\n",
       "    <tr>\n",
       "      <th>Irritability</th>\n",
       "      <td>2</td>\n",
       "      <td>object</td>\n",
       "      <td>0</td>\n",
       "      <td>0.0</td>\n",
       "    </tr>\n",
       "    <tr>\n",
       "      <th>delayed healing</th>\n",
       "      <td>2</td>\n",
       "      <td>object</td>\n",
       "      <td>0</td>\n",
       "      <td>0.0</td>\n",
       "    </tr>\n",
       "    <tr>\n",
       "      <th>partial paresis</th>\n",
       "      <td>2</td>\n",
       "      <td>object</td>\n",
       "      <td>0</td>\n",
       "      <td>0.0</td>\n",
       "    </tr>\n",
       "    <tr>\n",
       "      <th>muscle stiffness</th>\n",
       "      <td>2</td>\n",
       "      <td>object</td>\n",
       "      <td>0</td>\n",
       "      <td>0.0</td>\n",
       "    </tr>\n",
       "    <tr>\n",
       "      <th>Alopecia</th>\n",
       "      <td>2</td>\n",
       "      <td>object</td>\n",
       "      <td>0</td>\n",
       "      <td>0.0</td>\n",
       "    </tr>\n",
       "    <tr>\n",
       "      <th>Obesity</th>\n",
       "      <td>2</td>\n",
       "      <td>object</td>\n",
       "      <td>0</td>\n",
       "      <td>0.0</td>\n",
       "    </tr>\n",
       "    <tr>\n",
       "      <th>class</th>\n",
       "      <td>2</td>\n",
       "      <td>object</td>\n",
       "      <td>0</td>\n",
       "      <td>0.0</td>\n",
       "    </tr>\n",
       "  </tbody>\n",
       "</table>\n",
       "</div>"
      ],
      "text/plain": [
       "                    n_unique   dtype  n_missing  pct_missing\n",
       "Age                       51   int64          0          0.0\n",
       "Gender                     2  object          0          0.0\n",
       "Polyuria                   2  object          0          0.0\n",
       "Polydipsia                 2  object          0          0.0\n",
       "sudden weight loss         2  object          0          0.0\n",
       "weakness                   2  object          0          0.0\n",
       "Polyphagia                 2  object          0          0.0\n",
       "Genital thrush             2  object          0          0.0\n",
       "visual blurring            2  object          0          0.0\n",
       "Itching                    2  object          0          0.0\n",
       "Irritability               2  object          0          0.0\n",
       "delayed healing            2  object          0          0.0\n",
       "partial paresis            2  object          0          0.0\n",
       "muscle stiffness           2  object          0          0.0\n",
       "Alopecia                   2  object          0          0.0\n",
       "Obesity                    2  object          0          0.0\n",
       "class                      2  object          0          0.0"
      ]
     },
     "execution_count": 5,
     "metadata": {},
     "output_type": "execute_result"
    }
   ],
   "source": [
    "snapshot = get_snapshot(diab)\n",
    "snapshot"
   ]
  },
  {
   "cell_type": "code",
   "execution_count": 6,
   "metadata": {},
   "outputs": [],
   "source": [
    "bina = snapshot.index.drop(['Age', 'class'])"
   ]
  },
  {
   "cell_type": "code",
   "execution_count": 7,
   "metadata": {},
   "outputs": [],
   "source": [
    "def plot_single_categorical(df, col):\n",
    "    plt.figure(figsize = (4, 4))\n",
    "    plt.bar(x = df[col].value_counts().index, height = df[col].value_counts(), color = mcolors.TABLEAU_COLORS)\n",
    "    sns.despine(top = True)\n",
    "    n_level = df[col].nunique()\n",
    "    for x_coor in range(n_level):\n",
    "        plt.annotate(df[col].value_counts().iloc[x_coor], \n",
    "                     xy = (x_coor, \n",
    "                           df[col].value_counts().iloc[x_coor] + df[col].value_counts().iloc[0]/50))\n",
    "    plt.xticks(rotation = 0)\n",
    "    plt.grid()\n",
    "    plt.title(col)\n",
    "    plt.show()"
   ]
  },
  {
   "cell_type": "code",
   "execution_count": 8,
   "metadata": {
    "scrolled": true
   },
   "outputs": [
    {
     "data": {
      "image/png": "[encoded data removed]",
      "text/plain": [
       "<Figure size 288x288 with 1 Axes>"
      ]
     },
     "metadata": {
      "needs_background": "light"
     },
     "output_type": "display_data"
    }
   ],
   "source": [
    "plot_single_categorical(diab, 'class')"
   ]
  },
  {
   "cell_type": "code",
   "execution_count": 9,
   "metadata": {},
   "outputs": [],
   "source": [
    "enc = OrdinalEncoder(dtype = int)"
   ]
  },
  {
   "cell_type": "code",
   "execution_count": 10,
   "metadata": {},
   "outputs": [],
   "source": [
    "X = pd.DataFrame(enc.fit_transform(diab[bina]), columns = bina).join(diab['Age'])"
   ]
  },
  {
   "cell_type": "code",
   "execution_count": 11,
   "metadata": {},
   "outputs": [],
   "source": [
    "enc_y = LabelEncoder()\n",
    "y = enc_y.fit_transform(diab['class'])"
   ]
  },
  {
   "cell_type": "code",
   "execution_count": 20,
   "metadata": {},
   "outputs": [],
   "source": [
    "def feat_significance(X, y, n_feat_data_type, num):\n",
    "    mi_df = pd.DataFrame(mutual_info_classif(X, y, random_state = 42), index = X.columns, columns = ['score'])\n",
    "    mi_df = mi_df.sort_values(by = 'score', ascending = False)\n",
    "    \n",
    "    def color_cell(s):    \n",
    "        background = []\n",
    "        for i in range(len(s.index)):\n",
    "            if s.index[i] in num:\n",
    "                background.append('background-color: yellow')\n",
    "            else:\n",
    "                background.append('')\n",
    "        return background\n",
    "    \n",
    "    if n_feat_data_type == 1:\n",
    "        return mi_df\n",
    "    else:\n",
    "        return mi_df.style.apply(color_cell, axis = 0)"
   ]
  },
  {
   "cell_type": "code",
   "execution_count": 22,
   "metadata": {
    "scrolled": false
   },
   "outputs": [
    {
     "data": {
      "text/html": [
       "<style  type=\"text/css\" >\n",
       "    #T_51d3722e_1a4c_11eb_8892_982cbc79baa2row2_col0 {\n",
       "            background-color:  yellow;\n",
       "        }</style><table id=\"T_51d3722e_1a4c_11eb_8892_982cbc79baa2\" ><thead>    <tr>        <th class=\"blank level0\" ></th>        <th class=\"col_heading level0 col0\" >score</th>    </tr></thead><tbody>\n",
       "                <tr>\n",
       "                        <th id=\"T_51d3722e_1a4c_11eb_8892_982cbc79baa2level0_row0\" class=\"row_heading level0 row0\" >Polyuria</th>\n",
       "                        <td id=\"T_51d3722e_1a4c_11eb_8892_982cbc79baa2row0_col0\" class=\"data row0 col0\" >0.250708</td>\n",
       "            </tr>\n",
       "            <tr>\n",
       "                        <th id=\"T_51d3722e_1a4c_11eb_8892_982cbc79baa2level0_row1\" class=\"row_heading level0 row1\" >Polydipsia</th>\n",
       "                        <td id=\"T_51d3722e_1a4c_11eb_8892_982cbc79baa2row1_col0\" class=\"data row1 col0\" >0.247022</td>\n",
       "            </tr>\n",
       "            <tr>\n",
       "                        <th id=\"T_51d3722e_1a4c_11eb_8892_982cbc79baa2level0_row2\" class=\"row_heading level0 row2\" >Age</th>\n",
       "                        <td id=\"T_51d3722e_1a4c_11eb_8892_982cbc79baa2row2_col0\" class=\"data row2 col0\" >0.122378</td>\n",
       "            </tr>\n",
       "            <tr>\n",
       "                        <th id=\"T_51d3722e_1a4c_11eb_8892_982cbc79baa2level0_row3\" class=\"row_heading level0 row3\" >Gender</th>\n",
       "                        <td id=\"T_51d3722e_1a4c_11eb_8892_982cbc79baa2row3_col0\" class=\"data row3 col0\" >0.117260</td>\n",
       "            </tr>\n",
       "            <tr>\n",
       "                        <th id=\"T_51d3722e_1a4c_11eb_8892_982cbc79baa2level0_row4\" class=\"row_heading level0 row4\" >sudden weight loss</th>\n",
       "                        <td id=\"T_51d3722e_1a4c_11eb_8892_982cbc79baa2row4_col0\" class=\"data row4 col0\" >0.105781</td>\n",
       "            </tr>\n",
       "            <tr>\n",
       "                        <th id=\"T_51d3722e_1a4c_11eb_8892_982cbc79baa2level0_row5\" class=\"row_heading level0 row5\" >partial paresis</th>\n",
       "                        <td id=\"T_51d3722e_1a4c_11eb_8892_982cbc79baa2row5_col0\" class=\"data row5 col0\" >0.091547</td>\n",
       "            </tr>\n",
       "            <tr>\n",
       "                        <th id=\"T_51d3722e_1a4c_11eb_8892_982cbc79baa2level0_row6\" class=\"row_heading level0 row6\" >muscle stiffness</th>\n",
       "                        <td id=\"T_51d3722e_1a4c_11eb_8892_982cbc79baa2row6_col0\" class=\"data row6 col0\" >0.065289</td>\n",
       "            </tr>\n",
       "            <tr>\n",
       "                        <th id=\"T_51d3722e_1a4c_11eb_8892_982cbc79baa2level0_row7\" class=\"row_heading level0 row7\" >Irritability</th>\n",
       "                        <td id=\"T_51d3722e_1a4c_11eb_8892_982cbc79baa2row7_col0\" class=\"data row7 col0\" >0.063798</td>\n",
       "            </tr>\n",
       "            <tr>\n",
       "                        <th id=\"T_51d3722e_1a4c_11eb_8892_982cbc79baa2level0_row8\" class=\"row_heading level0 row8\" >visual blurring</th>\n",
       "                        <td id=\"T_51d3722e_1a4c_11eb_8892_982cbc79baa2row8_col0\" class=\"data row8 col0\" >0.034429</td>\n",
       "            </tr>\n",
       "            <tr>\n",
       "                        <th id=\"T_51d3722e_1a4c_11eb_8892_982cbc79baa2level0_row9\" class=\"row_heading level0 row9\" >Alopecia</th>\n",
       "                        <td id=\"T_51d3722e_1a4c_11eb_8892_982cbc79baa2row9_col0\" class=\"data row9 col0\" >0.028893</td>\n",
       "            </tr>\n",
       "            <tr>\n",
       "                        <th id=\"T_51d3722e_1a4c_11eb_8892_982cbc79baa2level0_row10\" class=\"row_heading level0 row10\" >Polyphagia</th>\n",
       "                        <td id=\"T_51d3722e_1a4c_11eb_8892_982cbc79baa2row10_col0\" class=\"data row10 col0\" >0.028347</td>\n",
       "            </tr>\n",
       "            <tr>\n",
       "                        <th id=\"T_51d3722e_1a4c_11eb_8892_982cbc79baa2level0_row11\" class=\"row_heading level0 row11\" >Obesity</th>\n",
       "                        <td id=\"T_51d3722e_1a4c_11eb_8892_982cbc79baa2row11_col0\" class=\"data row11 col0\" >0.013712</td>\n",
       "            </tr>\n",
       "            <tr>\n",
       "                        <th id=\"T_51d3722e_1a4c_11eb_8892_982cbc79baa2level0_row12\" class=\"row_heading level0 row12\" >Genital thrush</th>\n",
       "                        <td id=\"T_51d3722e_1a4c_11eb_8892_982cbc79baa2row12_col0\" class=\"data row12 col0\" >0.008917</td>\n",
       "            </tr>\n",
       "            <tr>\n",
       "                        <th id=\"T_51d3722e_1a4c_11eb_8892_982cbc79baa2level0_row13\" class=\"row_heading level0 row13\" >Itching</th>\n",
       "                        <td id=\"T_51d3722e_1a4c_11eb_8892_982cbc79baa2row13_col0\" class=\"data row13 col0\" >0.004328</td>\n",
       "            </tr>\n",
       "            <tr>\n",
       "                        <th id=\"T_51d3722e_1a4c_11eb_8892_982cbc79baa2level0_row14\" class=\"row_heading level0 row14\" >weakness</th>\n",
       "                        <td id=\"T_51d3722e_1a4c_11eb_8892_982cbc79baa2row14_col0\" class=\"data row14 col0\" >0.000000</td>\n",
       "            </tr>\n",
       "            <tr>\n",
       "                        <th id=\"T_51d3722e_1a4c_11eb_8892_982cbc79baa2level0_row15\" class=\"row_heading level0 row15\" >delayed healing</th>\n",
       "                        <td id=\"T_51d3722e_1a4c_11eb_8892_982cbc79baa2row15_col0\" class=\"data row15 col0\" >0.000000</td>\n",
       "            </tr>\n",
       "    </tbody></table>"
      ],
      "text/plain": [
       "<pandas.io.formats.style.Styler at 0x1a3505615c8>"
      ]
     },
     "execution_count": 22,
     "metadata": {},
     "output_type": "execute_result"
    }
   ],
   "source": [
    "feat_score = feat_significance(X, y, 2, 'Age')\n",
    "feat_score"
   ]
  },
  {
   "cell_type": "code",
   "execution_count": 23,
   "metadata": {},
   "outputs": [],
   "source": [
    "def get_mean_std(df):\n",
    "    mean_col = pd.DataFrame(df.mean(), columns = ['mean'])\n",
    "    std_col = pd.DataFrame(df.std(), columns = ['std'])\n",
    "    mean_plus_std = mean_col.join(std_col)\n",
    "    return mean_plus_std"
   ]
  },
  {
   "cell_type": "code",
   "execution_count": 24,
   "metadata": {},
   "outputs": [
    {
     "data": {
      "text/html": [
       "<div>\n",
       "<style scoped>\n",
       "    .dataframe tbody tr th:only-of-type {\n",
       "        vertical-align: middle;\n",
       "    }\n",
       "\n",
       "    .dataframe tbody tr th {\n",
       "        vertical-align: top;\n",
       "    }\n",
       "\n",
       "    .dataframe thead th {\n",
       "        text-align: right;\n",
       "    }\n",
       "</style>\n",
       "<table border=\"1\" class=\"dataframe\">\n",
       "  <thead>\n",
       "    <tr style=\"text-align: right;\">\n",
       "      <th></th>\n",
       "      <th>mean</th>\n",
       "      <th>std</th>\n",
       "    </tr>\n",
       "  </thead>\n",
       "  <tbody>\n",
       "    <tr>\n",
       "      <th>Gender</th>\n",
       "      <td>0.630769</td>\n",
       "      <td>0.483061</td>\n",
       "    </tr>\n",
       "    <tr>\n",
       "      <th>Polyuria</th>\n",
       "      <td>0.496154</td>\n",
       "      <td>0.500467</td>\n",
       "    </tr>\n",
       "    <tr>\n",
       "      <th>Polydipsia</th>\n",
       "      <td>0.448077</td>\n",
       "      <td>0.497776</td>\n",
       "    </tr>\n",
       "    <tr>\n",
       "      <th>sudden weight loss</th>\n",
       "      <td>0.417308</td>\n",
       "      <td>0.493589</td>\n",
       "    </tr>\n",
       "    <tr>\n",
       "      <th>weakness</th>\n",
       "      <td>0.586538</td>\n",
       "      <td>0.492928</td>\n",
       "    </tr>\n",
       "    <tr>\n",
       "      <th>Polyphagia</th>\n",
       "      <td>0.455769</td>\n",
       "      <td>0.498519</td>\n",
       "    </tr>\n",
       "    <tr>\n",
       "      <th>Genital thrush</th>\n",
       "      <td>0.223077</td>\n",
       "      <td>0.416710</td>\n",
       "    </tr>\n",
       "    <tr>\n",
       "      <th>visual blurring</th>\n",
       "      <td>0.448077</td>\n",
       "      <td>0.497776</td>\n",
       "    </tr>\n",
       "    <tr>\n",
       "      <th>Itching</th>\n",
       "      <td>0.486538</td>\n",
       "      <td>0.500300</td>\n",
       "    </tr>\n",
       "    <tr>\n",
       "      <th>Irritability</th>\n",
       "      <td>0.242308</td>\n",
       "      <td>0.428892</td>\n",
       "    </tr>\n",
       "    <tr>\n",
       "      <th>delayed healing</th>\n",
       "      <td>0.459615</td>\n",
       "      <td>0.498846</td>\n",
       "    </tr>\n",
       "    <tr>\n",
       "      <th>partial paresis</th>\n",
       "      <td>0.430769</td>\n",
       "      <td>0.495661</td>\n",
       "    </tr>\n",
       "    <tr>\n",
       "      <th>muscle stiffness</th>\n",
       "      <td>0.375000</td>\n",
       "      <td>0.484589</td>\n",
       "    </tr>\n",
       "    <tr>\n",
       "      <th>Alopecia</th>\n",
       "      <td>0.344231</td>\n",
       "      <td>0.475574</td>\n",
       "    </tr>\n",
       "    <tr>\n",
       "      <th>Obesity</th>\n",
       "      <td>0.169231</td>\n",
       "      <td>0.375317</td>\n",
       "    </tr>\n",
       "    <tr>\n",
       "      <th>Age</th>\n",
       "      <td>48.028846</td>\n",
       "      <td>12.151466</td>\n",
       "    </tr>\n",
       "  </tbody>\n",
       "</table>\n",
       "</div>"
      ],
      "text/plain": [
       "                         mean        std\n",
       "Gender               0.630769   0.483061\n",
       "Polyuria             0.496154   0.500467\n",
       "Polydipsia           0.448077   0.497776\n",
       "sudden weight loss   0.417308   0.493589\n",
       "weakness             0.586538   0.492928\n",
       "Polyphagia           0.455769   0.498519\n",
       "Genital thrush       0.223077   0.416710\n",
       "visual blurring      0.448077   0.497776\n",
       "Itching              0.486538   0.500300\n",
       "Irritability         0.242308   0.428892\n",
       "delayed healing      0.459615   0.498846\n",
       "partial paresis      0.430769   0.495661\n",
       "muscle stiffness     0.375000   0.484589\n",
       "Alopecia             0.344231   0.475574\n",
       "Obesity              0.169231   0.375317\n",
       "Age                 48.028846  12.151466"
      ]
     },
     "execution_count": 24,
     "metadata": {},
     "output_type": "execute_result"
    }
   ],
   "source": [
    "get_mean_std(X)"
   ]
  },
  {
   "cell_type": "code",
   "execution_count": 25,
   "metadata": {},
   "outputs": [],
   "source": [
    "X_scaled = pd.DataFrame(scale(X), columns = X.columns)"
   ]
  },
  {
   "cell_type": "code",
   "execution_count": 26,
   "metadata": {},
   "outputs": [],
   "source": [
    "lr = LogisticRegression(random_state = 42)\n",
    "knn = KNeighborsClassifier()\n",
    "svc = SVC(random_state = 42)\n",
    "tree = DecisionTreeClassifier(max_features = 'auto', random_state = 42)"
   ]
  },
  {
   "cell_type": "code",
   "execution_count": 27,
   "metadata": {},
   "outputs": [],
   "source": [
    "alg_dict = {lr: 'lr', svc: 'svc', knn: 'knn', tree: 'tree'}"
   ]
  },
  {
   "cell_type": "code",
   "execution_count": 28,
   "metadata": {},
   "outputs": [],
   "source": [
    "def num_feat_perform(algorithm, feat_ordered, X_ordered, y, metric):\n",
    "    scores = []\n",
    "    for i in range(1, len(feat_ordered)+1):\n",
    "        pred_data = X_ordered.iloc[:, 0:i]\n",
    "        score = mean(cross_val_score(algorithm, pred_data, y, scoring = metric, cv = 5))\n",
    "        scores.append(score)\n",
    "\n",
    "    n_features = len(feat_ordered)\n",
    "    plt.plot(np.arange(n_features), scores, marker = 'x')\n",
    "    plt.xticks(np.arange(n_features), np.arange(1, n_features + 1))\n",
    "    for i in range(n_features):\n",
    "        plt.text(i, scores[i], s = round(scores[i], 2))\n",
    "    plt.grid()\n",
    "    plt.xlabel('no. of features')\n",
    "    plt.ylabel('score')\n",
    "    \n",
    "def num_feat_multi_alg(alg_dict, feat_ordered, X_ordered, y, metric):\n",
    "    n_algorithm = len(alg_dict)\n",
    "    algorithms = list(alg_dict.keys())\n",
    "    alg_names = list(alg_dict.values())\n",
    "    if n_algorithm <= 2:\n",
    "        nrows = 1\n",
    "        ncols = n_algorithm\n",
    "        fig = plt.figure(figsize = (ncols * 6, 4))\n",
    "    else:\n",
    "        nrows = math.ceil(n_algorithm / 2)\n",
    "        ncols = 2\n",
    "        fig = plt.figure(figsize = (12, nrows * 4))\n",
    "\n",
    "    for n in range(n_algorithm):\n",
    "        ax = fig.add_subplot(nrows, ncols, n + 1)\n",
    "        ax = num_feat_perform(algorithms[n], feat_ordered, X_ordered, y, metric)\n",
    "        plt.title(f\"'{alg_names[n]}' performance by '{metric}'\")\n",
    "        \n",
    "    plt.tight_layout()\n",
    "    plt.show()"
   ]
  },
  {
   "cell_type": "code",
   "execution_count": 29,
   "metadata": {
    "scrolled": false
   },
   "outputs": [
    {
     "data": {
      "image/png": "[encoded data removed]",
      "text/plain": [
       "<Figure size 864x576 with 4 Axes>"
      ]
     },
     "metadata": {
      "needs_background": "light"
     },
     "output_type": "display_data"
    }
   ],
   "source": [
    "num_feat_multi_alg(alg_dict, feat_score.index, X_scaled[feat_score.index], y, 'f1')"
   ]
  },
  {
   "cell_type": "code",
   "execution_count": 30,
   "metadata": {
    "scrolled": false
   },
   "outputs": [
    {
     "data": {
      "text/plain": [
       "Index(['Polyuria', 'Polydipsia', 'Gender', 'sudden weight loss',\n",
       "       'partial paresis', 'Irritability', 'visual blurring', 'Alopecia',\n",
       "       'Obesity', 'Genital thrush', 'Itching'],\n",
       "      dtype='object')"
      ]
     },
     "execution_count": 30,
     "metadata": {},
     "output_type": "execute_result"
    }
   ],
   "source": [
    "feat_to_be_dropped = []\n",
    "for index in [2, 6, 10, 14, 15]:\n",
    "    feat_to_be_dropped.append(feat_score.index[index])\n",
    "    \n",
    "feat_svc = feat_score.index.drop(feat_to_be_dropped)\n",
    "feat_svc"
   ]
  },
  {
   "cell_type": "code",
   "execution_count": 31,
   "metadata": {
    "scrolled": true
   },
   "outputs": [
    {
     "data": {
      "image/png": "[encoded data removed]",
      "text/plain": [
       "<Figure size 432x288 with 1 Axes>"
      ]
     },
     "metadata": {
      "needs_background": "light"
     },
     "output_type": "display_data"
    }
   ],
   "source": [
    "num_feat_multi_alg({svc: 'svc'}, feat_svc, X_scaled[feat_svc], y, 'f1')"
   ]
  },
  {
   "cell_type": "code",
   "execution_count": 32,
   "metadata": {},
   "outputs": [],
   "source": [
    "def plot_learning_curve(train_scores, test_scores, train_sizes):\n",
    "    train_scores = pd.DataFrame(train_scores, index = train_sizes, columns = ['split1', 'split2', 'split3', 'split4', 'split5'])\n",
    "    train_scores = train_scores.join(pd.Series(train_scores.mean(axis = 1), name = 'mean'))\n",
    "\n",
    "    test_scores = pd.DataFrame(test_scores, index = train_sizes, columns = ['split1', 'split2', 'split3', 'split4', 'split5'])\n",
    "    test_scores = test_scores.join(pd.Series(test_scores.mean(axis = 1), name = 'mean'))\n",
    "\n",
    "    plt.plot(train_scores['mean'], label = 'train_scores')\n",
    "    plt.plot(test_scores['mean'], label = 'test_scores')\n",
    "    plt.legend()\n",
    "    plt.grid()\n",
    "    plt.xlabel('no. of training samples')\n",
    "    \n",
    "def two_metric_graph(algorithm, X, y):\n",
    "    train_sizes = np.linspace(start = 10, stop = X.shape[0] * 0.8, num = 6, dtype = int)\n",
    "    fig = plt.figure(figsize = (10, 4))\n",
    "\n",
    "    for i, metric in enumerate(['f1', 'balanced_accuracy']):\n",
    "        train_sizes_abs, train_scores, test_scores = learning_curve(algorithm, X, y, train_sizes = train_sizes, \n",
    "                                                                    scoring = metric, cv = 5, shuffle = True, \n",
    "                                                                    random_state = 42)\n",
    "        ax = fig.add_subplot(1, 2, i + 1)\n",
    "        ax = plot_learning_curve(train_scores, test_scores, train_sizes)\n",
    "        plt.title(f\"'performance by '{metric}'\")\n",
    "\n",
    "    plt.tight_layout()\n",
    "    plt.show()"
   ]
  },
  {
   "cell_type": "code",
   "execution_count": 33,
   "metadata": {
    "scrolled": true
   },
   "outputs": [
    {
     "data": {
      "image/png": "[encoded data removed]",
      "text/plain": [
       "<Figure size 720x288 with 2 Axes>"
      ]
     },
     "metadata": {
      "needs_background": "light"
     },
     "output_type": "display_data"
    }
   ],
   "source": [
    "two_metric_graph(svc, X_scaled[feat_svc], y)"
   ]
  },
  {
   "cell_type": "code",
   "execution_count": 34,
   "metadata": {},
   "outputs": [
    {
     "data": {
      "text/plain": [
       "Index(['Polyuria', 'Polydipsia', 'Gender', 'sudden weight loss',\n",
       "       'partial paresis', 'Irritability', 'visual blurring', 'Alopecia',\n",
       "       'Obesity', 'Genital thrush', 'Itching'],\n",
       "      dtype='object')"
      ]
     },
     "execution_count": 34,
     "metadata": {},
     "output_type": "execute_result"
    }
   ],
   "source": [
    "feat_svc"
   ]
  },
  {
   "cell_type": "code",
   "execution_count": 35,
   "metadata": {
    "scrolled": false
   },
   "outputs": [
    {
     "data": {
      "text/plain": [
       "11"
      ]
     },
     "execution_count": 35,
     "metadata": {},
     "output_type": "execute_result"
    }
   ],
   "source": [
    "len(feat_svc)"
   ]
  },
  {
   "cell_type": "code",
   "execution_count": 36,
   "metadata": {},
   "outputs": [
    {
     "data": {
      "text/plain": [
       "['svc.joblib']"
      ]
     },
     "execution_count": 36,
     "metadata": {},
     "output_type": "execute_result"
    }
   ],
   "source": [
    "svc.fit(X_scaled[feat_svc], y)\n",
    "joblib.dump(svc, 'svc.joblib')"
   ]
  }
 ],
 "metadata": {
  "kernelspec": {
   "display_name": "Python 3",
   "language": "python",
   "name": "python3"
  },
  "language_info": {
   "codemirror_mode": {
    "name": "ipython",
    "version": 3
   },
   "file_extension": ".py",
   "mimetype": "text/x-python",
   "name": "python",
   "nbconvert_exporter": "python",
   "pygments_lexer": "ipython3",
   "version": "3.7.7"
  }
 },
 "nbformat": 4,
 "nbformat_minor": 4
}
